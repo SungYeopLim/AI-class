{
  "nbformat": 4,
  "nbformat_minor": 0,
  "metadata": {
    "colab": {
      "provenance": []
    },
    "kernelspec": {
      "name": "python3",
      "display_name": "Python 3"
    },
    "language_info": {
      "name": "python"
    }
  },
  "cells": [
    {
      "cell_type": "markdown",
      "source": [
        "#혼동 행렬"
      ],
      "metadata": {
        "id": "_r_Gfvekf1nV"
      }
    },
    {
      "cell_type": "markdown",
      "source": [
        "##Recall (재현율 / 민감도, Sensitivity)"
      ],
      "metadata": {
        "id": "9Xejn15_gAQw"
      }
    },
    {
      "cell_type": "markdown",
      "source": [
        "실제 양성(Positive) 중에서 모델이 양성이라고 정확히 예측한 비율"
      ],
      "metadata": {
        "id": "KW2a3L_vhHCP"
      }
    },
    {
      "cell_type": "markdown",
      "source": [
        "Recall = TP / TP + EN"
      ],
      "metadata": {
        "id": "9oSOUqUTgF77"
      }
    },
    {
      "cell_type": "markdown",
      "source": [
        "FN(양성을 음성이라 잘못 판단한 경우)을 얼마나 줄였는지 보여주고, Recall이 높다는 것은 놓친 양성 데이터가 적다는 뜻이다."
      ],
      "metadata": {
        "id": "a1dhplOHgiXo"
      }
    },
    {
      "cell_type": "markdown",
      "source": [
        "양성 클래스가 중요할 때 사용되며, 민감한 의료 시스템이나 보안 탐지 시스템에서는 Recall이 모델의 핵심 지표가 된다."
      ],
      "metadata": {
        "id": "JwAnLIk-g0fh"
      }
    },
    {
      "cell_type": "markdown",
      "source": [
        "##Precision (정밀도)"
      ],
      "metadata": {
        "id": "l1g9zNCtg7Jt"
      }
    },
    {
      "cell_type": "markdown",
      "source": [
        "모델이 양성이라고 예측한 것 중에서 실제로 양성인 비율"
      ],
      "metadata": {
        "id": "tTvec-WzhPHe"
      }
    },
    {
      "cell_type": "markdown",
      "source": [
        "Precision = TP / TP + FP"
      ],
      "metadata": {
        "id": "p_llSpwahTbJ"
      }
    },
    {
      "cell_type": "markdown",
      "source": [
        "FP(음성을 양성이라 잘못 판단한 경우)를 얼마나 줄였는지 보여주고, Precision이 높다는 것은 모델이 양성으로 판단한 것에 대한 신뢰도가 높다는 뜻이다."
      ],
      "metadata": {
        "id": "fNt0t1g0hXmS"
      }
    },
    {
      "cell_type": "markdown",
      "source": [
        "양성으로 잘못 판단했을 때 비용이 큰 경우에 사용된다."
      ],
      "metadata": {
        "id": "4BS50ihehiPi"
      }
    },
    {
      "cell_type": "markdown",
      "source": [
        "##AUC(ROC) - Area Under the Curve"
      ],
      "metadata": {
        "id": "F26M5i_Zhnoy"
      }
    },
    {
      "cell_type": "markdown",
      "source": [
        "ROC[TPR (Recall) vs FPR (False Positive Rate)의 곡선]  곡선의 면적"
      ],
      "metadata": {
        "id": "toh_JwLxhzNv"
      }
    },
    {
      "cell_type": "markdown",
      "source": [
        "*   ROC의 x축: FPR = FP / FP + TN\n",
        "*   ROC의 y축: TPR = Recall = TP / TP + FN"
      ],
      "metadata": {
        "id": "bujxBHgsiAu7"
      }
    },
    {
      "cell_type": "markdown",
      "source": [
        "가능한 모든 임계값에서의 모델 성능을 종합적으로 보여주며, 클래스 불균형 상황에서도 유용한 메트릭이다."
      ],
      "metadata": {
        "id": "m42dd3PGigMI"
      }
    },
    {
      "cell_type": "markdown",
      "source": [
        "모델 전체의 분류 능력을 평가할 때 사용한다."
      ],
      "metadata": {
        "id": "6kc1k7vtiN0v"
      }
    },
    {
      "cell_type": "markdown",
      "source": [
        "##F1-score"
      ],
      "metadata": {
        "id": "3Dmk51E_iuk3"
      }
    },
    {
      "cell_type": "markdown",
      "source": [
        "Precision과 Recall의 조화 평균"
      ],
      "metadata": {
        "id": "wI3-q0dEi3TG"
      }
    },
    {
      "cell_type": "markdown",
      "source": [
        "F1 = 2 * (Precision * Recall) / (Precision + Recall)"
      ],
      "metadata": {
        "id": "B6zQQeEFi7Sw"
      }
    },
    {
      "cell_type": "markdown",
      "source": [
        "Precision과 Recall 간의 균형을 평가하며, 조화 평균은 두 값 중 하나라도 매우 낮으면 전체 결과가 낮아진다."
      ],
      "metadata": {
        "id": "GVq_71gFjD0s"
      }
    },
    {
      "cell_type": "markdown",
      "source": [
        "Precision과 Recall이 동시에 중요할 때 사용하며, 특히 클래스가 불균형 할 때 유용하다."
      ],
      "metadata": {
        "id": "XVfufiZ6jQdi"
      }
    },
    {
      "cell_type": "markdown",
      "source": [
        "##Sensitivity (민감도)"
      ],
      "metadata": {
        "id": "HQUfBxlRjXYV"
      }
    },
    {
      "cell_type": "markdown",
      "source": [
        "실제 양성을 얼마나 잘 탐지했지에 대한 정도"
      ],
      "metadata": {
        "id": "72AkbfEujaxY"
      }
    },
    {
      "cell_type": "markdown",
      "source": [
        "Sensitivity = TP / TP + EN"
      ],
      "metadata": {
        "id": "S8wiTZRPjfpp"
      }
    },
    {
      "cell_type": "markdown",
      "source": [
        "Recall과 동일한 지표지만, 표현 방식이나 분야에서 Sensitivity라는 용어가 자주 사용된다."
      ],
      "metadata": {
        "id": "HsjCYHPVji_4"
      }
    },
    {
      "cell_type": "markdown",
      "source": [
        "실제 Positive 클래스에 민감하게 반응해 놓치는 것을 최소화한다."
      ],
      "metadata": {
        "id": "m6v3zm0ejplo"
      }
    },
    {
      "cell_type": "markdown",
      "source": [
        "##Specificity (특이도)"
      ],
      "metadata": {
        "id": "h2gUZfHnjxfD"
      }
    },
    {
      "cell_type": "markdown",
      "source": [
        "실제 음성 중에서 모델이 음성이라고 정확히 예측한 비율"
      ],
      "metadata": {
        "id": "vguy3zifjzcO"
      }
    },
    {
      "cell_type": "markdown",
      "source": [
        "Specificity = TN / TN + FP"
      ],
      "metadata": {
        "id": "WhDj9Wuhj29x"
      }
    },
    {
      "cell_type": "markdown",
      "source": [
        "FP(음성을 양성이라 잘못 판단한 경우)를 얼마나 줄였는지를 측정하고, Specificity가 높을수록 거짓 판단이 적다는 뜻이다."
      ],
      "metadata": {
        "id": "azf7UPCmj8Tx"
      }
    },
    {
      "cell_type": "markdown",
      "source": [
        "정상(음성) 데이터를 잘 걸러내는 것이 중요할 때 사용하며, 민감도(Sensitivity)와 함께 균형을 맞추는 것이 중요하다."
      ],
      "metadata": {
        "id": "fCO6FwiDkNHf"
      }
    }
  ]
}