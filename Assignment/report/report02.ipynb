{
 "cells": [
  {
   "cell_type": "markdown",
   "metadata": {
    "id": "_r_Gfvekf1nV"
   },
   "source": [
    "#혼동 행렬"
   ]
  },
  {
   "cell_type": "markdown",
   "metadata": {
    "id": "9Xejn15_gAQw"
   },
   "source": [
    "##Recall (재현율 / 민감도, Sensitivity)"
   ]
  },
  {
   "cell_type": "markdown",
   "metadata": {
    "id": "KW2a3L_vhHCP"
   },
   "source": [
    "실제 양성(Positive) 중에서 모델이 양성이라고 정확히 예측한 비율"
   ]
  },
  {
   "cell_type": "markdown",
   "metadata": {
    "id": "9oSOUqUTgF77"
   },
   "source": [
    "Recall = TP / TP + EN"
   ]
  },
  {
   "cell_type": "markdown",
   "metadata": {
    "id": "a1dhplOHgiXo"
   },
   "source": [
    "FN(양성을 음성이라 잘못 판단한 경우)을 얼마나 줄였는지 보여주고, Recall이 높다는 것은 놓친 양성 데이터가 적다는 뜻이다."
   ]
  },
  {
   "cell_type": "markdown",
   "metadata": {
    "id": "JwAnLIk-g0fh"
   },
   "source": [
    "양성 클래스가 중요할 때 사용되며, 민감한 의료 시스템이나 보안 탐지 시스템에서는 Recall이 모델의 핵심 지표가 된다."
   ]
  },
  {
   "cell_type": "markdown",
   "metadata": {
    "id": "l1g9zNCtg7Jt"
   },
   "source": [
    "##Precision (정밀도)"
   ]
  },
  {
   "cell_type": "markdown",
   "metadata": {
    "id": "tTvec-WzhPHe"
   },
   "source": [
    "모델이 양성이라고 예측한 것 중에서 실제로 양성인 비율"
   ]
  },
  {
   "cell_type": "markdown",
   "metadata": {
    "id": "p_llSpwahTbJ"
   },
   "source": [
    "Precision = TP / TP + FP"
   ]
  },
  {
   "cell_type": "markdown",
   "metadata": {
    "id": "fNt0t1g0hXmS"
   },
   "source": [
    "FP(음성을 양성이라 잘못 판단한 경우)를 얼마나 줄였는지 보여주고, Precision이 높다는 것은 모델이 양성으로 판단한 것에 대한 신뢰도가 높다는 뜻이다."
   ]
  },
  {
   "cell_type": "markdown",
   "metadata": {
    "id": "4BS50ihehiPi"
   },
   "source": [
    "양성으로 잘못 판단했을 때 비용이 큰 경우에 사용된다."
   ]
  },
  {
   "cell_type": "markdown",
   "metadata": {
    "id": "F26M5i_Zhnoy"
   },
   "source": [
    "##AUC(ROC) - Area Under the Curve"
   ]
  },
  {
   "cell_type": "markdown",
   "metadata": {
    "id": "toh_JwLxhzNv"
   },
   "source": [
    "ROC[TPR (Recall) vs FPR (False Positive Rate)의 곡선]  곡선의 면적"
   ]
  },
  {
   "cell_type": "markdown",
   "metadata": {
    "id": "bujxBHgsiAu7"
   },
   "source": [
    "*   ROC의 x축: FPR = FP / FP + TN\n",
    "*   ROC의 y축: TPR = Recall = TP / TP + FN"
   ]
  },
  {
   "cell_type": "markdown",
   "metadata": {
    "id": "m42dd3PGigMI"
   },
   "source": [
    "가능한 모든 임계값에서의 모델 성능을 종합적으로 보여주며, 클래스 불균형 상황에서도 유용한 메트릭이다."
   ]
  },
  {
   "cell_type": "markdown",
   "metadata": {
    "id": "6kc1k7vtiN0v"
   },
   "source": [
    "모델 전체의 분류 능력을 평가할 때 사용한다."
   ]
  },
  {
   "cell_type": "markdown",
   "metadata": {
    "id": "3Dmk51E_iuk3"
   },
   "source": [
    "##F1-score"
   ]
  },
  {
   "cell_type": "markdown",
   "metadata": {
    "id": "wI3-q0dEi3TG"
   },
   "source": [
    "Precision과 Recall의 조화 평균"
   ]
  },
  {
   "cell_type": "markdown",
   "metadata": {
    "id": "B6zQQeEFi7Sw"
   },
   "source": [
    "F1 = 2 * (Precision * Recall) / (Precision + Recall)"
   ]
  },
  {
   "cell_type": "markdown",
   "metadata": {
    "id": "GVq_71gFjD0s"
   },
   "source": [
    "Precision과 Recall 간의 균형을 평가하며, 조화 평균은 두 값 중 하나라도 매우 낮으면 전체 결과가 낮아진다."
   ]
  },
  {
   "cell_type": "markdown",
   "metadata": {
    "id": "XVfufiZ6jQdi"
   },
   "source": [
    "Precision과 Recall이 동시에 중요할 때 사용하며, 특히 클래스가 불균형 할 때 유용하다."
   ]
  },
  {
   "cell_type": "markdown",
   "metadata": {
    "id": "HQUfBxlRjXYV"
   },
   "source": [
    "##Sensitivity (민감도)"
   ]
  },
  {
   "cell_type": "markdown",
   "metadata": {
    "id": "72AkbfEujaxY"
   },
   "source": [
    "실제 양성을 얼마나 잘 탐지했지에 대한 정도"
   ]
  },
  {
   "cell_type": "markdown",
   "metadata": {
    "id": "S8wiTZRPjfpp"
   },
   "source": [
    "Sensitivity = TP / TP + EN"
   ]
  },
  {
   "cell_type": "markdown",
   "metadata": {
    "id": "HsjCYHPVji_4"
   },
   "source": [
    "Recall과 동일한 지표지만, 표현 방식이나 분야에서 Sensitivity라는 용어가 자주 사용된다."
   ]
  },
  {
   "cell_type": "markdown",
   "metadata": {
    "id": "m6v3zm0ejplo"
   },
   "source": [
    "실제 Positive 클래스에 민감하게 반응해 놓치는 것을 최소화한다."
   ]
  },
  {
   "cell_type": "markdown",
   "metadata": {
    "id": "h2gUZfHnjxfD"
   },
   "source": [
    "##Specificity (특이도)"
   ]
  },
  {
   "cell_type": "markdown",
   "metadata": {
    "id": "vguy3zifjzcO"
   },
   "source": [
    "실제 음성 중에서 모델이 음성이라고 정확히 예측한 비율"
   ]
  },
  {
   "cell_type": "markdown",
   "metadata": {
    "id": "WhDj9Wuhj29x"
   },
   "source": [
    "Specificity = TN / TN + FP"
   ]
  },
  {
   "cell_type": "markdown",
   "metadata": {
    "id": "azf7UPCmj8Tx"
   },
   "source": [
    "FP(음성을 양성이라 잘못 판단한 경우)를 얼마나 줄였는지를 측정하고, Specificity가 높을수록 거짓 판단이 적다는 뜻이다."
   ]
  },
  {
   "cell_type": "markdown",
   "metadata": {
    "id": "fCO6FwiDkNHf"
   },
   "source": [
    "정상(음성) 데이터를 잘 걸러내는 것이 중요할 때 사용하며, 민감도(Sensitivity)와 함께 균형을 맞추는 것이 중요하다."
   ]
  }
 ],
 "metadata": {
  "colab": {
   "provenance": []
  },
  "kernelspec": {
   "display_name": "Python 3 (ipykernel)",
   "language": "python",
   "name": "python3"
  },
  "language_info": {
   "codemirror_mode": {
    "name": "ipython",
    "version": 3
   },
   "file_extension": ".py",
   "mimetype": "text/x-python",
   "name": "python",
   "nbconvert_exporter": "python",
   "pygments_lexer": "ipython3",
   "version": "3.12.7"
  }
 },
 "nbformat": 4,
 "nbformat_minor": 4
}
