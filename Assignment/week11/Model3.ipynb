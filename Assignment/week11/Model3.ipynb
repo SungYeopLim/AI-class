{
 "cells": [
  {
   "cell_type": "code",
   "execution_count": 3,
   "id": "ac6896f8-9dc7-4b1e-8f8d-3038ef183ec1",
   "metadata": {},
   "outputs": [],
   "source": [
    "import pandas as pd\n",
    "import tensorflow as tf\n",
    "from tensorflow.keras.models import Sequential\n",
    "from tensorflow.keras.layers import Dense\n",
    "from tensorflow.keras import Input\n",
    "from sklearn.model_selection import train_test_split\n",
    "from sklearn.preprocessing import StandardScaler"
   ]
  },
  {
   "cell_type": "code",
   "execution_count": 4,
   "id": "0ec4fda5-16eb-454c-88f7-9578e86db71a",
   "metadata": {},
   "outputs": [],
   "source": [
    "df = pd.read_csv(r\"..\\data\\seeds_dataset.txt\", sep=r'\\s+', header=None, engine='python')\n",
    "\n",
    "X = df.iloc[:, :-1]\n",
    "y = df.iloc[:, -1]"
   ]
  },
  {
   "cell_type": "code",
   "execution_count": 5,
   "id": "9a12a7e0-6471-46f0-8140-ea1f57f326ce",
   "metadata": {},
   "outputs": [],
   "source": [
    "scaler = StandardScaler()\n",
    "X_scaled = scaler.fit_transform(X)\n",
    "\n",
    "y_encoded = tf.keras.utils.to_categorical(y - 1, num_classes=3)"
   ]
  },
  {
   "cell_type": "code",
   "execution_count": 6,
   "id": "34ce7093-2b7f-49e2-a9e1-7c3f0bfe4772",
   "metadata": {},
   "outputs": [],
   "source": [
    "X_train, X_test, y_train, y_test = train_test_split(X_scaled, y_encoded, test_size=0.2, random_state=42)"
   ]
  },
  {
   "cell_type": "code",
   "execution_count": 7,
   "id": "00cda2fa-055f-4f22-bf6d-30587e18360a",
   "metadata": {},
   "outputs": [],
   "source": [
    "import tensorflow as tf\n",
    "from tensorflow.keras import Model\n",
    "from tensorflow.keras.layers import Dense\n",
    "\n",
    "# 커스텀 모델 정의\n",
    "class CustomSeedModel(Model):\n",
    "    def __init__(self):\n",
    "        super(CustomSeedModel, self).__init__()\n",
    "        self.dense1 = Dense(units=16, activation='relu')\n",
    "        self.dense2 = Dense(units=8, activation='relu')\n",
    "        self.output_layer = Dense(units=3, activation='softmax')\n",
    "\n",
    "    def call(self, inputs):\n",
    "        x = self.dense1(inputs)\n",
    "        x = self.dense2(x)\n",
    "        return self.output_layer(x)\n",
    "\n",
    "# 인스턴스 생성\n",
    "model = CustomSeedModel()"
   ]
  },
  {
   "cell_type": "code",
   "execution_count": 8,
   "id": "b8f6a230-80ad-4dd2-bbc3-c79ea8c12fcc",
   "metadata": {},
   "outputs": [
    {
     "name": "stdout",
     "output_type": "stream",
     "text": [
      "Epoch 1/30\n",
      "\u001b[1m17/17\u001b[0m \u001b[32m━━━━━━━━━━━━━━━━━━━━\u001b[0m\u001b[37m\u001b[0m \u001b[1m2s\u001b[0m 18ms/step - accuracy: 0.3739 - loss: 1.3045 - val_accuracy: 0.2647 - val_loss: 1.3007\n",
      "Epoch 2/30\n",
      "\u001b[1m17/17\u001b[0m \u001b[32m━━━━━━━━━━━━━━━━━━━━\u001b[0m\u001b[37m\u001b[0m \u001b[1m0s\u001b[0m 6ms/step - accuracy: 0.3421 - loss: 1.2049 - val_accuracy: 0.2647 - val_loss: 1.1426\n",
      "Epoch 3/30\n",
      "\u001b[1m17/17\u001b[0m \u001b[32m━━━━━━━━━━━━━━━━━━━━\u001b[0m\u001b[37m\u001b[0m \u001b[1m0s\u001b[0m 6ms/step - accuracy: 0.3726 - loss: 1.0365 - val_accuracy: 0.2941 - val_loss: 1.0275\n",
      "Epoch 4/30\n",
      "\u001b[1m17/17\u001b[0m \u001b[32m━━━━━━━━━━━━━━━━━━━━\u001b[0m\u001b[37m\u001b[0m \u001b[1m0s\u001b[0m 7ms/step - accuracy: 0.3591 - loss: 0.9857 - val_accuracy: 0.4412 - val_loss: 0.9374\n",
      "Epoch 5/30\n",
      "\u001b[1m17/17\u001b[0m \u001b[32m━━━━━━━━━━━━━━━━━━━━\u001b[0m\u001b[37m\u001b[0m \u001b[1m0s\u001b[0m 6ms/step - accuracy: 0.5248 - loss: 0.8603 - val_accuracy: 0.5000 - val_loss: 0.8732\n",
      "Epoch 6/30\n",
      "\u001b[1m17/17\u001b[0m \u001b[32m━━━━━━━━━━━━━━━━━━━━\u001b[0m\u001b[37m\u001b[0m \u001b[1m0s\u001b[0m 7ms/step - accuracy: 0.5331 - loss: 0.8082 - val_accuracy: 0.5294 - val_loss: 0.8152\n",
      "Epoch 7/30\n",
      "\u001b[1m17/17\u001b[0m \u001b[32m━━━━━━━━━━━━━━━━━━━━\u001b[0m\u001b[37m\u001b[0m \u001b[1m0s\u001b[0m 7ms/step - accuracy: 0.6028 - loss: 0.7726 - val_accuracy: 0.5882 - val_loss: 0.7581\n",
      "Epoch 8/30\n",
      "\u001b[1m17/17\u001b[0m \u001b[32m━━━━━━━━━━━━━━━━━━━━\u001b[0m\u001b[37m\u001b[0m \u001b[1m0s\u001b[0m 7ms/step - accuracy: 0.6875 - loss: 0.7068 - val_accuracy: 0.6765 - val_loss: 0.7003\n",
      "Epoch 9/30\n",
      "\u001b[1m17/17\u001b[0m \u001b[32m━━━━━━━━━━━━━━━━━━━━\u001b[0m\u001b[37m\u001b[0m \u001b[1m0s\u001b[0m 7ms/step - accuracy: 0.7289 - loss: 0.6904 - val_accuracy: 0.8529 - val_loss: 0.6439\n",
      "Epoch 10/30\n",
      "\u001b[1m17/17\u001b[0m \u001b[32m━━━━━━━━━━━━━━━━━━━━\u001b[0m\u001b[37m\u001b[0m \u001b[1m0s\u001b[0m 6ms/step - accuracy: 0.8358 - loss: 0.6696 - val_accuracy: 0.9118 - val_loss: 0.5853\n",
      "Epoch 11/30\n",
      "\u001b[1m17/17\u001b[0m \u001b[32m━━━━━━━━━━━━━━━━━━━━\u001b[0m\u001b[37m\u001b[0m \u001b[1m0s\u001b[0m 6ms/step - accuracy: 0.8686 - loss: 0.5860 - val_accuracy: 0.8824 - val_loss: 0.5291\n",
      "Epoch 12/30\n",
      "\u001b[1m17/17\u001b[0m \u001b[32m━━━━━━━━━━━━━━━━━━━━\u001b[0m\u001b[37m\u001b[0m \u001b[1m0s\u001b[0m 6ms/step - accuracy: 0.8824 - loss: 0.5596 - val_accuracy: 0.9118 - val_loss: 0.4790\n",
      "Epoch 13/30\n",
      "\u001b[1m17/17\u001b[0m \u001b[32m━━━━━━━━━━━━━━━━━━━━\u001b[0m\u001b[37m\u001b[0m \u001b[1m0s\u001b[0m 6ms/step - accuracy: 0.9016 - loss: 0.4561 - val_accuracy: 0.9118 - val_loss: 0.4299\n",
      "Epoch 14/30\n",
      "\u001b[1m17/17\u001b[0m \u001b[32m━━━━━━━━━━━━━━━━━━━━\u001b[0m\u001b[37m\u001b[0m \u001b[1m0s\u001b[0m 7ms/step - accuracy: 0.8974 - loss: 0.4622 - val_accuracy: 0.9118 - val_loss: 0.3891\n",
      "Epoch 15/30\n",
      "\u001b[1m17/17\u001b[0m \u001b[32m━━━━━━━━━━━━━━━━━━━━\u001b[0m\u001b[37m\u001b[0m \u001b[1m0s\u001b[0m 7ms/step - accuracy: 0.8949 - loss: 0.4185 - val_accuracy: 0.9118 - val_loss: 0.3501\n",
      "Epoch 16/30\n",
      "\u001b[1m17/17\u001b[0m \u001b[32m━━━━━━━━━━━━━━━━━━━━\u001b[0m\u001b[37m\u001b[0m \u001b[1m0s\u001b[0m 7ms/step - accuracy: 0.8924 - loss: 0.3972 - val_accuracy: 0.9118 - val_loss: 0.3243\n",
      "Epoch 17/30\n",
      "\u001b[1m17/17\u001b[0m \u001b[32m━━━━━━━━━━━━━━━━━━━━\u001b[0m\u001b[37m\u001b[0m \u001b[1m0s\u001b[0m 6ms/step - accuracy: 0.9408 - loss: 0.3259 - val_accuracy: 0.9118 - val_loss: 0.2971\n",
      "Epoch 18/30\n",
      "\u001b[1m17/17\u001b[0m \u001b[32m━━━━━━━━━━━━━━━━━━━━\u001b[0m\u001b[37m\u001b[0m \u001b[1m0s\u001b[0m 6ms/step - accuracy: 0.9078 - loss: 0.3141 - val_accuracy: 0.9118 - val_loss: 0.2783\n",
      "Epoch 19/30\n",
      "\u001b[1m17/17\u001b[0m \u001b[32m━━━━━━━━━━━━━━━━━━━━\u001b[0m\u001b[37m\u001b[0m \u001b[1m0s\u001b[0m 6ms/step - accuracy: 0.8974 - loss: 0.3232 - val_accuracy: 0.9118 - val_loss: 0.2576\n",
      "Epoch 20/30\n",
      "\u001b[1m17/17\u001b[0m \u001b[32m━━━━━━━━━━━━━━━━━━━━\u001b[0m\u001b[37m\u001b[0m \u001b[1m0s\u001b[0m 7ms/step - accuracy: 0.8723 - loss: 0.3223 - val_accuracy: 0.9118 - val_loss: 0.2493\n",
      "Epoch 21/30\n",
      "\u001b[1m17/17\u001b[0m \u001b[32m━━━━━━━━━━━━━━━━━━━━\u001b[0m\u001b[37m\u001b[0m \u001b[1m0s\u001b[0m 6ms/step - accuracy: 0.8928 - loss: 0.3092 - val_accuracy: 0.9118 - val_loss: 0.2303\n",
      "Epoch 22/30\n",
      "\u001b[1m17/17\u001b[0m \u001b[32m━━━━━━━━━━━━━━━━━━━━\u001b[0m\u001b[37m\u001b[0m \u001b[1m0s\u001b[0m 6ms/step - accuracy: 0.8799 - loss: 0.3069 - val_accuracy: 0.9118 - val_loss: 0.2223\n",
      "Epoch 23/30\n",
      "\u001b[1m17/17\u001b[0m \u001b[32m━━━━━━━━━━━━━━━━━━━━\u001b[0m\u001b[37m\u001b[0m \u001b[1m0s\u001b[0m 6ms/step - accuracy: 0.8820 - loss: 0.2819 - val_accuracy: 0.9118 - val_loss: 0.2152\n",
      "Epoch 24/30\n",
      "\u001b[1m17/17\u001b[0m \u001b[32m━━━━━━━━━━━━━━━━━━━━\u001b[0m\u001b[37m\u001b[0m \u001b[1m0s\u001b[0m 6ms/step - accuracy: 0.9104 - loss: 0.2524 - val_accuracy: 0.9118 - val_loss: 0.2070\n",
      "Epoch 25/30\n",
      "\u001b[1m17/17\u001b[0m \u001b[32m━━━━━━━━━━━━━━━━━━━━\u001b[0m\u001b[37m\u001b[0m \u001b[1m0s\u001b[0m 7ms/step - accuracy: 0.9298 - loss: 0.2235 - val_accuracy: 0.9118 - val_loss: 0.2005\n",
      "Epoch 26/30\n",
      "\u001b[1m17/17\u001b[0m \u001b[32m━━━━━━━━━━━━━━━━━━━━\u001b[0m\u001b[37m\u001b[0m \u001b[1m0s\u001b[0m 8ms/step - accuracy: 0.8897 - loss: 0.2679 - val_accuracy: 0.9118 - val_loss: 0.1974\n",
      "Epoch 27/30\n",
      "\u001b[1m17/17\u001b[0m \u001b[32m━━━━━━━━━━━━━━━━━━━━\u001b[0m\u001b[37m\u001b[0m \u001b[1m0s\u001b[0m 6ms/step - accuracy: 0.9136 - loss: 0.2088 - val_accuracy: 0.9118 - val_loss: 0.1912\n",
      "Epoch 28/30\n",
      "\u001b[1m17/17\u001b[0m \u001b[32m━━━━━━━━━━━━━━━━━━━━\u001b[0m\u001b[37m\u001b[0m \u001b[1m0s\u001b[0m 8ms/step - accuracy: 0.8798 - loss: 0.2758 - val_accuracy: 0.9118 - val_loss: 0.1807\n",
      "Epoch 29/30\n",
      "\u001b[1m17/17\u001b[0m \u001b[32m━━━━━━━━━━━━━━━━━━━━\u001b[0m\u001b[37m\u001b[0m \u001b[1m0s\u001b[0m 7ms/step - accuracy: 0.8845 - loss: 0.2486 - val_accuracy: 0.9118 - val_loss: 0.1839\n",
      "Epoch 30/30\n",
      "\u001b[1m17/17\u001b[0m \u001b[32m━━━━━━━━━━━━━━━━━━━━\u001b[0m\u001b[37m\u001b[0m \u001b[1m0s\u001b[0m 6ms/step - accuracy: 0.9168 - loss: 0.1955 - val_accuracy: 0.9118 - val_loss: 0.1822\n"
     ]
    },
    {
     "data": {
      "text/plain": [
       "<keras.src.callbacks.history.History at 0x1bb8d185310>"
      ]
     },
     "execution_count": 8,
     "metadata": {},
     "output_type": "execute_result"
    }
   ],
   "source": [
    "model.compile(optimizer='adam', loss='categorical_crossentropy', metrics=['accuracy'])\n",
    "model.fit(X_train, y_train, epochs=30, batch_size=8, validation_split=0.2)"
   ]
  },
  {
   "cell_type": "code",
   "execution_count": 9,
   "id": "f4945876-c043-4a40-b9a4-8cea5adb00f6",
   "metadata": {},
   "outputs": [
    {
     "name": "stdout",
     "output_type": "stream",
     "text": [
      "\u001b[1m2/2\u001b[0m \u001b[32m━━━━━━━━━━━━━━━━━━━━\u001b[0m\u001b[37m\u001b[0m \u001b[1m0s\u001b[0m 34ms/step - accuracy: 0.9211 - loss: 0.2671\n",
      "\n",
      "✅ Test Accuracy: 0.9286\n"
     ]
    }
   ],
   "source": [
    "loss, acc = model.evaluate(X_test, y_test)\n",
    "print(f\"\\n✅ Test Accuracy: {acc:.4f}\")"
   ]
  },
  {
   "cell_type": "code",
   "execution_count": null,
   "id": "c2d3873d-5d61-4ec0-b148-5d10c59cd0ab",
   "metadata": {},
   "outputs": [],
   "source": []
  }
 ],
 "metadata": {
  "kernelspec": {
   "display_name": "Python 3 (ipykernel)",
   "language": "python",
   "name": "python3"
  },
  "language_info": {
   "codemirror_mode": {
    "name": "ipython",
    "version": 3
   },
   "file_extension": ".py",
   "mimetype": "text/x-python",
   "name": "python",
   "nbconvert_exporter": "python",
   "pygments_lexer": "ipython3",
   "version": "3.12.7"
  }
 },
 "nbformat": 4,
 "nbformat_minor": 5
}
