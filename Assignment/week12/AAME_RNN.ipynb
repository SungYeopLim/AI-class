{
 "cells": [
  {
   "cell_type": "code",
   "execution_count": 9,
   "id": "371c9181-2316-40c9-b97e-69e9381e360f",
   "metadata": {},
   "outputs": [],
   "source": [
    "import numpy as np\n",
    "import matplotlib.pyplot as plt\n",
    "import pandas as pd"
   ]
  },
  {
   "cell_type": "code",
   "execution_count": 19,
   "id": "77cd1a55-6632-4b4a-93d5-37ca1b5b6e4e",
   "metadata": {},
   "outputs": [],
   "source": [
    "df = pd.read_csv(\"..\\\\data\\\\AAME.csv\")"
   ]
  },
  {
   "cell_type": "code",
   "execution_count": 20,
   "id": "bb048606-4c2e-4db6-91ed-f787a64eeb4e",
   "metadata": {},
   "outputs": [],
   "source": [
    "df = df.drop(columns=['Date', 'Adj Close', 'Volume'])"
   ]
  },
  {
   "cell_type": "code",
   "execution_count": 21,
   "id": "0c463227-c252-424b-b31d-7d9dd854ace2",
   "metadata": {},
   "outputs": [],
   "source": [
    "df = df.dropna()"
   ]
  },
  {
   "cell_type": "code",
   "execution_count": 24,
   "id": "05fc8037-d673-43e4-83c8-b9123552ffef",
   "metadata": {},
   "outputs": [],
   "source": [
    "def make_sample(data, window):\n",
    "    train, target = [], []\n",
    "    for i in range(len(data) - window):\n",
    "        train.append(data.iloc[i:i+window].values)\n",
    "        target.append(data.iloc[i + window].values)  \n",
    "    return np.array(train), np.array(target)"
   ]
  },
  {
   "cell_type": "code",
   "execution_count": 25,
   "id": "7a564e8a-28e4-4ebd-acd0-05c990c84f12",
   "metadata": {},
   "outputs": [
    {
     "name": "stdout",
     "output_type": "stream",
     "text": [
      "(10091, 7, 4) (10091, 4)\n",
      "[[0.         4.05000019 3.8499999  3.8499999 ]\n",
      " [0.         4.         3.79999995 3.79999995]\n",
      " [0.         4.05000019 3.8499999  3.8499999 ]\n",
      " [0.         4.         3.79999995 3.79999995]\n",
      " [0.         3.95000005 3.75       3.75      ]\n",
      " [0.         3.75       3.54999995 3.54999995]\n",
      " [0.         3.70000005 3.5        3.5       ]] [0.         3.70000005 3.5        3.5       ]\n"
     ]
    }
   ],
   "source": [
    "X, y = make_sample(df, 7)\n",
    "print(X.shape, y.shape)\n",
    "print(X[0], y[0])"
   ]
  },
  {
   "cell_type": "code",
   "execution_count": null,
   "id": "185116b1-63c0-49d9-9bf7-a5e4847009b7",
   "metadata": {},
   "outputs": [],
   "source": [
    "from tensorflow.keras.models import Sequential\n",
    "from tensorflow.keras.layers import SimpleRNN\n",
    "from tensorflow.keras.layers import Dense\n",
    "\n",
    "model = Sequential"
   ]
  }
 ],
 "metadata": {
  "kernelspec": {
   "display_name": "Python 3 (ipykernel)",
   "language": "python",
   "name": "python3"
  },
  "language_info": {
   "codemirror_mode": {
    "name": "ipython",
    "version": 3
   },
   "file_extension": ".py",
   "mimetype": "text/x-python",
   "name": "python",
   "nbconvert_exporter": "python",
   "pygments_lexer": "ipython3",
   "version": "3.12.7"
  }
 },
 "nbformat": 4,
 "nbformat_minor": 5
}
